{
 "metadata": {
  "language_info": {
   "codemirror_mode": {
    "name": "ipython",
    "version": 3
   },
   "file_extension": ".py",
   "mimetype": "text/x-python",
   "name": "python",
   "nbconvert_exporter": "python",
   "pygments_lexer": "ipython3",
   "version": "3.7.4-final"
  },
  "orig_nbformat": 2,
  "kernelspec": {
   "name": "python37464bitdeeplearningvenv80341564c3e44c37ba47400c25aea932",
   "display_name": "Python 3.7.4 64-bit ('DeepLearning': venv)"
  }
 },
 "nbformat": 4,
 "nbformat_minor": 2,
 "cells": [
  {
   "cell_type": "markdown",
   "metadata": {},
   "source": [
    "# Text generation with LSTM"
   ]
  },
  {
   "cell_type": "code",
   "execution_count": null,
   "metadata": {},
   "outputs": [],
   "source": [
    "# Reweighting a probability distribution to a different temperature\n",
    "import numpy as np\n",
    "\n",
    "def reweight_distribution(original_distribution, temperature=0.5):\n",
    "    distribution = np.log(original_distribution) / temperature\n",
    "    distribution = np.exp(distribution)\n",
    "    return distribution / np.sum(distribution)"
   ]
  },
  {
   "cell_type": "markdown",
   "metadata": {},
   "source": [
    "## Implementing character-level LSTM text generation"
   ]
  },
  {
   "cell_type": "code",
   "execution_count": 1,
   "metadata": {
    "tags": []
   },
   "outputs": [
    {
     "output_type": "stream",
     "name": "stdout",
     "text": "Corpus length: 600893\n"
    }
   ],
   "source": [
    "# Preparing the data\n",
    "import keras\n",
    "import numpy as np\n",
    "\n",
    "path = keras.utils.get_file('nietzsche.txt', origin='https://s3.amazonaws.com/text-datasets/nietzsche.txt')\n",
    "text = open(path).read().lower()\n",
    "print('Corpus length:', len(text))"
   ]
  },
  {
   "cell_type": "code",
   "execution_count": 2,
   "metadata": {
    "tags": []
   },
   "outputs": [
    {
     "output_type": "stream",
     "name": "stdout",
     "text": "Number of sequences: 200278\nUnique characters: 58\nVectorization...\n"
    }
   ],
   "source": [
    "# Vectorizing sequences of characters\n",
    "maxlen = 60\n",
    "step = 3\n",
    "\n",
    "sentences = []\n",
    "\n",
    "next_chars = []\n",
    "\n",
    "for i in range(0, len(text)-maxlen, step):\n",
    "    sentences.append(text[i:i+maxlen])\n",
    "    next_chars.append(text[i+maxlen])\n",
    "\n",
    "print('Number of sequences:', len(sentences))\n",
    "\n",
    "chars = sorted(set(text))\n",
    "print('Unique characters:', len(chars))\n",
    "\n",
    "char_indices = dict((char, chars.index(char)) for char in chars)\n",
    "\n",
    "print('Vectorization...')\n",
    "x = np.zeros((len(sentences), maxlen, len(chars)), dtype=np.bool)\n",
    "y = np.zeros((len(sentences), len(chars)), dtype=np.bool)\n",
    "for i, sentence in enumerate(sentences):\n",
    "    for t, char in enumerate(sentence):\n",
    "        x[i, t, char_indices[char]] = 1\n",
    "    y[i, char_indices[next_chars[i]]] = 1"
   ]
  },
  {
   "cell_type": "code",
   "execution_count": 3,
   "metadata": {},
   "outputs": [],
   "source": [
    "# Single-layer LSTM model for next-character prediction\n",
    "from keras import layers\n",
    "\n",
    "model = keras.models.Sequential()\n",
    "model.add(layers.LSTM(128, input_shape=(maxlen, len(chars))))\n",
    "model.add(layers.Dense(len(chars), activation='softmax'))\n",
    "\n",
    "optimizer = keras.optimizers.RMSprop(lr=0.01)\n",
    "model.compile(loss='categorical_crossentropy', optimizer=optimizer)"
   ]
  },
  {
   "cell_type": "code",
   "execution_count": 4,
   "metadata": {},
   "outputs": [],
   "source": [
    "# Function to sample the next character given the model's predictions\n",
    "def sample(preds, temperature=1.0):\n",
    "    preds = np.asarray(preds).astype('float64')\n",
    "    preds = np.log(preds) / temperature\n",
    "    exp_preds = np.exp(preds)\n",
    "    preds = exp_preds / np.sum(exp_preds)\n",
    "    probas = np.random.multinomial(1, preds, 1)\n",
    "    return np.argmax(probas)"
   ]
  },
  {
   "cell_type": "code",
   "execution_count": 5,
   "metadata": {
    "tags": []
   },
   "outputs": [
    {
     "output_type": "stream",
     "name": "stdout",
     "text": "epoch 1\n1565/1565 [==============================] - 25s 16ms/step - loss: 1.9694\n--- Generating with seed: \"e range of man's inner experiences\nhitherto attained, the he\"\n------ temperature: 0.2\ne range of man's inner experiences\nhitherto attained, the here andthe religion of the all the soul of the senses of the soul to the sense of the incertion of thesensesof the man in the soul to the soul of the soul to the sense of the soul tothe sense the sense of the soul to the soulto the soul andthe soul of the manto the soul ofthe soul to the senses and the soul and the masterof the same the soulin the sumplest the soul which thesuch and the \n------ temperature: 0.5\nme the soul in the sumplest the soul which the such and the sumpleter--in the believewhat is is allthat thesith,to thesoul of thefare, to the senses tothe funded every the bawnesto intellomanibiling eventhe stand what to the truthexperence of these understand of the what the been thesenent to the belieft the master, thelast are and to the\nfarmed the man and the brought the mainty of the sounders of the such as the mas to the and the what is to \n------ temperature: 1.0\ne sounders of the such as the mas to the and the what is to whe thit-in thedeligiope\npurtions of cirntortabloves a rele--ad \"thisht. nature.?---he\nkeein; withto the purbless of\nofer--wene tilfout is a to gand, anywe cannoress.\" that this nach as tange, by the varicy and stall betver, onch,,woringully the crate accauns\nfor care lae; that somate it. pracelymay first or the other vict sirely thrived, has heever more certains of that, the differonk the\n------ temperature: 1.2\nhrived, has he ever more certains of that, the differonk the a herts, affeet isourime,wyterquife, shaug bedoved fror\nto the evil--hilduss, proratiatiess of\ncrake: therefursmetnetabibily\" \"outsthraginationyverolrajusliar. thinking and vower cmyed\nonces\nto\nlofe to scumpuedt, and lood of very\" gades. itself--tearryly,d,no lanker--is yejumances and aheed toall\ngreeum,\nifall inyidioms so truth the atable sim, afrecoult-all, wifurayy--and dis;anture even \nepoch 2\n1565/1565 [==============================] - 21s 13ms/step - loss: 1.6172\n--- Generating with seed: \"rning\nin whom the scientific instinct blossoms forth fully a\"\n------ temperature: 0.2\nrning\nin whom the scientific instinct blossoms forth fully and thefarried with allthedemaring tothesenseofthedest a morethe desta more themanall theare of the destand thedest amore in the distonces andwith the dest andthe demaration of the dest and all theinterpreation of the many andstrong and the far is a more the dest and sucha moreto the stand and the destandthesuch a more andthe theman andstrong andthedistinctionof thed\n------ temperature: 0.5\nmore and the the man and strong and the distinction of the dream of the been fall. the same of the manifes, the demaration and counter. he is the\nremarned the dame the baring to reado theprecertur and the exist, in still are fleence ofthe dusticeof the men all by the distance, the most eye, and laid all the man invent in the doen to really men of thealways alto will is a more is state isthat the man of the artist in the words of the willbe as the fa\n------ temperature: 1.0\n the man of the artist in the words of the will be as the far, in\nmadery against which suffering exaguration of\norder and definiver th2 here avonto brhaming of one sweeddiserenthily against that\nthe imcarish us\" as a man perhapsthe\nsensually form of the desirens somely been and o\"neleenty of ealitless, them.\n\nh2y deterson to comed\"instance, manifred his verypurstity of  asin\ntungiase unfarriveaed metard aifferth farusishedin seems enough and, it \n------ temperature: 1.2\nrive aed metard aifferth farusished in seems enough and, it is must a simmed vis abser in bodd it ofderat all, to gayury--butevery difints away may hald oun\nthom more arisal a valuance (this iure,the feling exhakebby tore the\nown viutoizod ofsmaindes, dopsoultyment fromthe againstic ifzemen\" with exisce conscers envust consciecce,ament, and imruad are embices viat! nects of ivelt anigish. their philoooh onuus, theto(interpotration. and befth\ndoen  a\nepoch 3\n1565/1565 [==============================] - 22s 14ms/step - loss: 1.5309\n--- Generating with seed: \"self. there must be a sort of repugnance\nin me to believe an\"\n------ temperature: 0.2\nself. there must be a sort of repugnance\nin me to believe andthe inthe deserveandsuch acomplete the comethings and it is a such a self the come the self the self of the sense andthe self the sense and the conscience ofthe sense and thesensethe sense of theselfthe selfthe present andin the presentas a state ofthe sameattained to the self the one of the same and such a complete the sameas thesame to the sense thesense the sense of the sam\n------ temperature: 0.5\nsame as the same to the sense the sense the sense of the same attannssof thepresent be discovered and the idea allowcontemptationsin the man and self with the distrust\"and came passical to belong thepriveded perhaps hander lower to person ofthe prefeemting thingsand in the moral pate of the discoping that theeverything thecase and there is to the general are and thingsand life should been \"thing that under to a greated andit is arome that it hi\n------ temperature: 1.0\nen \"thing that under to a greated and it is arome that it him\n dreampelletimes we it the disentipled. our iamerilatiss travely beluesment\nthemmora1ly, has propuced spect, andstroggal of the these con imprehed abeeredy, i remate chated8litation for the badyspustish, errorowed, adoverorbeing in the unital agis, our conduct tothis closed dided\nor on againin the idea of woman.\nthese given the womatest\nto nog asyttemently it a precided comy them worder \n------ temperature: 1.2\nomatest\nto nog a syttemently it a precided comy them worder his onlywith trutume and himself musticy resurce hoched by suresfakittding that a, il the suaman not\nescruarly\nwhich\ncape,shas for it, after had seems of oth, from\n\"huing magediate himself it art of vhirncy. do, as overlun knophed hiswass agains-swear as1pect. evat \nwhich gradusion :i  is not trages ofbutration towiorngarally--if dingerdilrings\nadvantablen. the wild, ibstanders of whichit eo\nepoch 4\n1565/1565 [==============================] - 21s 13ms/step - loss: 1.4815\n--- Generating with seed: \"fluence the sensations in different ways. the stomach carrie\"\n------ temperature: 0.2\nfluence the sensations in different ways. the stomach carried tothe stateofthe senseofthe standance ofthe sameas aman in the standance ofthe strength to the sense of the stillstill allthe world the standance of thestandance of the strictand thesame toa man also the sense of the strict and the most conscience of the standance of the strict of thesame as a man also the standanceof the strenglyto the standance of thestandance of the standar\n------ temperature: 0.5\nhe strengly to the standance of the standance of the standards andthe error, and particlly and of his possible in thepossiblein thefeelingfor thetruth and the feeling and stillmoral purity all what which themoral that the standardof thesuch and live to the self-healt\".--thereis alsothe true than the fullartists, what the new possible for the greater for intellectual its and in whichenough and feelings tostandance of the sameare or and the t\n------ temperature: 1.0\nnough and feelings to standance of the same are or and the througnive to his secre of\nbefood, i makehas recunded, and\nalso exice spiriouslyand thebrutid schoigh lickers as the spiritualcommander in the inderraded the toking in the feelines\nof dicinnally first, becameon destanceders rubtys who instance,\nthere este; some\nothers, humal the\nloud everwhome orclarbsto feeling and \"willner. in ptice who no be believe on\nimpleding withthe class  un things\n------ temperature: 1.2\nice who no be believe on\nimpleding with the class  un things aak thatquane sharsciefse of\nto usfulnes with resultof yes,hmalire dertatents to a\nviewle.\n\nisr\nmeti1v, and who was thatnelar a\nman skill--(chron ts minal muchuhis, from, life, idoccic pensiwible\nberevade(thedin \nlast \"taniction in\nbrited\nit of anothy with eherexpedine thus,\nlackned yorgixioul lifertcertain what sical dilded him. you\naltikele a relitoresus assured, with a people a suppos\nepoch 5\n1565/1565 [==============================] - 22s 14ms/step - loss: 1.4522\n--- Generating with seed: \"me the guise of science.--moreover, though all the\npeoples a\"\n------ temperature: 0.2\nme the guise of science.--moreover, though all the\npeoples andthe self-self-self-superstion ofthe spiritand the self-self-self-self-consciousand the senses of the soul,and the self-same the self-suffering the senses andthe self-self-superstionofthe self-self-superstionof the self-sain the antiquity in the self-same and the manand moral and the presention of the senses ofthe same and as the profound andthesenses of the self-self-same theself-s\n------ temperature: 0.5\nthe profound and the senses of the self-self-same the self-superstion.\n\n\ne\nseritaintism of histumous at onehas prevain as a modernpoirityin the contempting former andis a maninstinction tothe men of thecomplesely whichhas most be thefact ofthe instinctsof the promise and spirit of the remains and the truth and modern interestion of theself senses of the more below\"--the same to thesame formed to the really in the generally person of the soul a\n------ temperature: 1.0\ne formed to the really in the generally person of the soul an active of hessecly, and men and singing in eyehow psecreciving of thetermy of discontemp? a long at yeinnec. hitherto thinkeess of conceive after hishasts, somethingthere has not\nstill a fatter--this 'the germany lackon,\n\n\ngertand courated harts \"sortof expesienc and neverthelethated by the perally\nidexces\nhere entity--all up thefa furd at nourable towell of that does not pote have -mosts\n------ temperature: 1.2\na furd at nourable to well of that does not pote have -mostsels; theyest, europen, ankfurs. a been provoursonism the alther that supiccutive impulsecialled hischneriains--orut.    so all teristak. heis.\n\nthey is beat hinker\nconcrise alle eyal above once plust!\"\n\"them\nheist contcwmegoryof wholeis give.the be\nrelation. also\n-interesse,\nthiss expemian\nwhenmodber\nmatrettices. granefound in the \"temthoon a highb=s ord\"lifince, sconsecbificing,tartx-indi\nepoch 6\n1565/1565 [==============================] - 21s 13ms/step - loss: 1.4282\n--- Generating with seed: \"vagance of \"sympathy for\ngod\" belongs to a democratic age); \"\n------ temperature: 0.2\nvagance of \"sympathy for\ngod\" belongs to a democratic age);thatamanand the same asa man isthe senseofthe conduct in theself-comeandthesuperioring and the indeed havenot thesameasa misunderstand that the sense of the same as the sense of the samespiritual and the sense of the same all the manof the sense ofthe same same all the thoughtthe soul of thesame suffering that thesame always as the same and the condection ofthe sense of thes\n------ temperature: 0.5\n always as the same and the condection of the sense of the sufferthe ourcomparations and the resurt of the eventhe world are not have the made the deters of the sources of the imposite the worlddestance of the same put seemsof thesame about a the\ncommuning to which a command.the moreman arethought the lovehimselfhave onlof the manifest the remary the misunderstand andthe degree of whole of the self--and the exceptof the freedom of will to \"th\n------ temperature: 1.0\nle of the self--and the except of the freedom of will to \"thisof rartiness\nprecurbidibly the parare the seedwithoutgermansprohasiw\nquitioral reason.\n\n1gimithest augonetness\nandthe suffering, no have detive teaculation to say\ndosindmer as feel indocalt as\nthe doubt as have distanceness in present! fraughten off to sympathy of insching-dri\"ess; no lo\nsperions\nbucher-hughificing (the heal rance of the habit of natural trout\nw\"pt where, from thus thought \n------ temperature: 1.2\nof the habit of natural trout\nw\"pt where, from thus thought to soulalless advace. the, hute.\nthat is do my that\nbsiped af veitually my hard the !re luch of hus piritines aicharpo=lier advanceis remal as othinness hard, nomadively, the lad religic and \"kindhet\" as that\nwe great mattershory, this\nlaspo the thyse--an\nammoren befent is wags,\ntheo, \"from must,go, thesphicsizility).\nwheteris obtalwcurse ashem\nyeod althing only.ped. o\" expressiog ofeasili\nepoch 7\n1565/1565 [==============================] - 22s 14ms/step - loss: 1.4125\n--- Generating with seed: \"a species of joy in the sense of superiority which the\nmanif\"\n------ temperature: 0.2\na species of joy in the sense of superiority which the\nmanifestationand the man at the same to the wholethe most distintual andsoul in the state of the otherlong of the contines to the soulof thesamebeen to the same manhas theself the sameto thesame man afterthe spirit ofthe fact the strong and suchaman wasevery all doment tothe sameman isto the subjection of the condition of the spirit of the same spirit ofthe spirit of the spirit and \n------ temperature: 0.5\ne spirit of the same spirit of the spirit of the spirit and more in the caused to wishes to present his living the contraryto the whole been a france ofa freedom, as such as reference of his propet in thecouderned and instincts ofthe devil, concerned and all such a whole intercourse of the better has the most divine to hismost divine the position of the world of themost doinstinctives of his more and sense of things say, and the distinctive the love\n------ temperature: 1.0\ns more and sense of things say, and the distinctive the lovery, to book. the latter--as is, that the tenderant incaurage aftord? wht\nconturitation,get to the inot on the invaritation to wasthousacces. the class, how\nhe kye siness traditerable,and denial, theprecioous which this occasion ey. the a, lous has feel wilens.why falr learn considure livine, ass afforwher with mighthers tothe involidual) things peysical our idee in use implenssicehis own sa\n------ temperature: 1.2\ndual) things peysical our idee in use implenssice his own saistialily pertains of times but it\niw ta\"kind-more\nlived too if indeces and applies for him,\nas\ngnegcess athome toexpraction,  converbition come in the yheveritux whoever them(ale\nflusther a live immoyialabtherful--to defidvedlast, everythingglois him\ndoubter that ona morecavexife good, it after take beyond intenselling--bning ineau\"es esert,\nas he shat its,\nalthis he shoriness\",; tothruck\nepoch 8\n1565/1565 [==============================] - 21s 13ms/step - loss: 1.3986\n--- Generating with seed: \"f a mind might be measured by\nthe amount of \"truth\" it could\"\n------ temperature: 0.2\nf a mind might be measured by\nthe amount of \"truth\" it couldbeanactional andan according to the sense ofthe sense of the badthe man ofthestand to the senseofthestand to the sense ofthesense of the sense of the precisely thepresentthe present the conscience ofthe sense of the superitration, the world of the sense of the present andsoul ofthe sense of the senseof the sense of the stand to the senseof the sense ofthe desire the soul thec\n------ temperature: 0.5\nstand to the sense of the sense of the desire the soul the conscience of the fear of an evil--in the fact that whichcould be instinctive them the believe that i man, and society\"--the world man isto thestuparity of the way them without in the antily the bestion and the believes of the our, which were as itis all the words of great some the german the submationto which most pait of the whole life in the metaphysics.\"--itis a misunderstandingthe word \n------ temperature: 1.0\nife in the metaphysics.\"--it is a misunderstanding the wordand ewhing without last\".,\" that well kind of the god rousage ofsimmatic by theseful herrelentiest theconfod experites about his for instance, in the europewith instance,some offully apunis is a given in the are reveal in the eputiclly that it is becomewhich will\nlight it? islet us history of philosophizity, modest. since purmores.\"\", furtherwact besow-suchoration of order to that are gun\n------ temperature: 1.2\n.\"\", further wact besow-suchoration of order to that are guncenty,divinomegncarily , and\npoint in eormuptime.\"--is id. withertones. nevertering life in\none's petiess one ventinorm, teemsegfores funty an own themybe doction of\nraeded\nnorl-dryers of knows the gelrac gart of commonplacks appetto can\nloarfe? that which well). tomusiouspined,\nmisundered nocamonger.\ndistinguitingwishs to cevelihis mind when other of the dendeman, modern , and\nthe ult: not\nepoch 9\n1565/1565 [==============================] - 21s 14ms/step - loss: 1.3868\n--- Generating with seed: \"le is that to everything\nspiritual corresponds something cor\"\n------ temperature: 0.2\nle is that to everything\nspiritual corresponds something correstof the sameto thespiritof the spirit who are its respect to the soul and spirit of the spirit of thespirit, with the spiritof the spirit of the spirit who have not a sense andspirit of the spirit of the spirit ofthe spirit of thespeciesand man are the artistsof thespirit who has not to thespeciesto any desire and all the species and spirit of the sense of thespiritof thespirit\n------ temperature: 0.5\n species and spirit of the sense of the spirit of the spirit of all the contrary andreason, the more spirits desire and decect of his love, and which whoever of athing atits fines to thepresent spirit, with one something distingues ofthe sacrificed bythe christian men and the species tobe such and allcontempowled to the child with which is also the satisfaction of because the interrociation and social spord, even intellectual greatest greatdiscont\n------ temperature: 1.0\nn and social spord, even intellectual greatest great disconted his place distansition ofgenaritynoworinaris, heas its purely to conscience, thereupoonning is supord hind, that acts the last it imperfections andmightrarily ears with disregromed chil\ncress, he isbecome ves to\npitses to\nbeing of hear?\"\nhealt,\" with regard, \"it may\nsother upon the backgoosacthetion.\n\n\nlate desire _antame especility to a\nperally\nof lack his closehis divine,of his plays,\n------ temperature: 1.2\nity to a\nperally\nof lack his close his divine, of his plays, this ocken, and\nnatrentwlayd enting strong as rightsof : the). accumeme--also certaint-for a\"soriloch,\" is inyerer--it is he imcial esugariel has be,\ngrain phinorous of thn wishio nor\nesiact is\nwill allthe fsing,\n\"escece, food beginningl\"--who fisxitious, slajea by preas), thoughous--and of speaking arorger in christian dreammual and\ndingt tital\nhas to tapreed; there--bollow, this oblurking, h\n"
    }
   ],
   "source": [
    "# Text-generation loop\n",
    "import random\n",
    "import sys\n",
    "\n",
    "for epoch in range(1, 10):\n",
    "    print('epoch', epoch)\n",
    "    model.fit(x, y, batch_size=128, epochs=1)\n",
    "    start_index = random.randint(0, len(text)-maxlen-1)\n",
    "    generated_text = text[start_index:start_index+maxlen]\n",
    "    print('--- Generating with seed: \"' + generated_text + '\"')\n",
    "    \n",
    "    for temperature in [0.2, 0.5, 1.0, 1.2]:\n",
    "        print('------ temperature:', temperature)\n",
    "        sys.stdout.write(generated_text)\n",
    "        for i in range(400):\n",
    "            sampled = np.zeros((1, maxlen, len(chars)))\n",
    "            for t, char in enumerate(generated_text):\n",
    "                sampled[0, t, char_indices[char]] = 1.\n",
    "            preds = model.predict(sampled, verbose=0)[0]\n",
    "            next_index = sample(preds, temperature)\n",
    "            next_char = chars[next_index]\n",
    "            \n",
    "            generated_text += next_char\n",
    "            generated_text = generated_text[1:]\n",
    "            sys.stdout.write(next_char)\n",
    "        print()"
   ]
  }
 ]
}